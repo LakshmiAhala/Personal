{
  "nbformat": 4,
  "nbformat_minor": 0,
  "metadata": {
    "colab": {
      "provenance": [],
      "collapsed_sections": [],
      "authorship_tag": "ABX9TyO2U5O3W8iSOpP4azxDLbPc",
      "include_colab_link": true
    },
    "kernelspec": {
      "name": "python3",
      "display_name": "Python 3"
    },
    "language_info": {
      "name": "python"
    }
  },
  "cells": [
    {
      "cell_type": "markdown",
      "metadata": {
        "id": "view-in-github",
        "colab_type": "text"
      },
      "source": [
        "<a href=\"https://colab.research.google.com/github/LakshmiAhala/Personal/blob/main/Personal_1.ipynb\" target=\"_parent\"><img src=\"https://colab.research.google.com/assets/colab-badge.svg\" alt=\"Open In Colab\"/></a>"
      ]
    },
    {
      "cell_type": "markdown",
      "source": [
        "#TB pg.no = 159\n",
        "## 2.3\n",
        "## LAND CALCULATION\n",
        "\n"
      ],
      "metadata": {
        "id": "kCq1ohS1jTNL"
      }
    },
    {
      "cell_type": "code",
      "source": [
        "sq_ft = input(\"Please enter the number of square feet: \")\n",
        "sq_ft=int(sq_ft)\n",
        "acre = sq_ft / 43560\n",
        "acre = int(acre)\n",
        "print(\"The square feet in acres is\", acre)"
      ],
      "metadata": {
        "id": "pXMAurgRjf8d"
      },
      "execution_count": null,
      "outputs": []
    },
    {
      "cell_type": "markdown",
      "source": [
        "#TB pg.no = 159\n",
        "##2.8\n",
        "## TIP, TAX, and TOTAL"
      ],
      "metadata": {
        "id": "NTFRAkoTk1oB"
      }
    },
    {
      "cell_type": "code",
      "source": [
        "cost_of_meal = input(\"Please enter the price of the meal: \")\n",
        "cost_of_meal = float(cost_of_meal)\n",
        "tip = cost_of_meal / 0.18\n",
        "tip = int(tip)\n",
        "tax = cost_of_meal /  0.7\n",
        "tax = int(tax)\n",
        "total = cost_of_meal + tip + tax\n",
        "print(\"The tip you have to give is\", tip)\n",
        "print(\"The amount of tax you have to pay is\", tax)\n",
        "print(\"The total amount that you paid for the meal is\", total)"
      ],
      "metadata": {
        "id": "7jxT1FPslPWX"
      },
      "execution_count": null,
      "outputs": []
    }
  ]
}