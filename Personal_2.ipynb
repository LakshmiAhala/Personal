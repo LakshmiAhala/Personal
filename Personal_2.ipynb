{
  "nbformat": 4,
  "nbformat_minor": 0,
  "metadata": {
    "colab": {
      "provenance": [],
      "collapsed_sections": [],
      "authorship_tag": "ABX9TyNlnTMOuCh/Mqs5HzWmTjzf",
      "include_colab_link": true
    },
    "kernelspec": {
      "name": "python3",
      "display_name": "Python 3"
    },
    "language_info": {
      "name": "python"
    }
  },
  "cells": [
    {
      "cell_type": "markdown",
      "metadata": {
        "id": "view-in-github",
        "colab_type": "text"
      },
      "source": [
        "<a href=\"https://colab.research.google.com/github/LakshmiAhala/Personal/blob/main/Personal_2.ipynb\" target=\"_parent\"><img src=\"https://colab.research.google.com/assets/colab-badge.svg\" alt=\"Open In Colab\"/></a>"
      ]
    },
    {
      "cell_type": "markdown",
      "source": [
        "#Pg. 160\n",
        "##11\n",
        "##Male and Female Percentages\n"
      ],
      "metadata": {
        "id": "ij1WkZYf5k4v"
      }
    },
    {
      "cell_type": "code",
      "execution_count": null,
      "metadata": {
        "id": "j9OteZmM2eyK"
      },
      "outputs": [],
      "source": [
        "total = 50\n",
        "total = int(total)\n",
        "male = input(\"Enter the number of males in your class: \")\n",
        "male = int(male)\n",
        "female = input(\"Enter the number of females in your class: \")\n",
        "female = int(female)\n",
        "\n",
        "\n",
        "female_percent = (female / total)* 100\n",
        "female_percent = int(female_percent)\n",
        "male_percent = (male / total)* 100\n",
        "male_percent = int(male_percent)\n",
        "\n",
        "if female > 50:\n",
        "    print(\"ERROR\")\n",
        "if male > 50:\n",
        "    print(\"ERROR\")\n",
        "    \n",
        "print(\"The percentage of females is\", female_percent, \"%\")\n",
        "print(\"The percentage of males is\", male_percent, \"%\")"
      ]
    },
    {
      "cell_type": "markdown",
      "source": [
        "#pg 215\n",
        "## 4\n",
        "## Roman Numerals\n"
      ],
      "metadata": {
        "id": "LIEyskOk9Z5x"
      }
    },
    {
      "cell_type": "code",
      "source": [
        "number = input(\"Please enter a number ranging between 1-10: \")\n",
        "number = int(number)\n",
        "\n",
        "if number == 1:\n",
        "    print(\"I\")\n",
        "    \n",
        "elif number == 2:\n",
        "    print(\"II\")\n",
        " \n",
        "elif number == 3:\n",
        "    print(\"III\")\n",
        "    \n",
        "elif number == 4:\n",
        "    print(\"IV\")\n",
        "    \n",
        "elif number == 5:\n",
        "    print(\"V\")\n",
        "    \n",
        "elif number == 6:\n",
        "    print(\"VI\")\n",
        "    \n",
        "elif number == 7:\n",
        "    print(\"VII\")\n",
        "    \n",
        "elif number == 8:\n",
        "    print(\"VIII\")\n",
        "    \n",
        "elif number == 9:\n",
        "    print(\"IX\")\n",
        "    \n",
        "elif number == 10:\n",
        "    print(\"X\")\n",
        "    \n",
        "else: \n",
        "    print(\"ERROR\")"
      ],
      "metadata": {
        "id": "XJyZ4BBy9leT"
      },
      "execution_count": null,
      "outputs": []
    },
    {
      "cell_type": "markdown",
      "source": [
        "#Pg 215\n",
        "##6\n",
        "## Magic Dates\n"
      ],
      "metadata": {
        "id": "W1uqT1mtH2TE"
      }
    },
    {
      "cell_type": "code",
      "source": [
        "day = input(\"Please enter a day in numerical form (ex: 27): \")\n",
        "day = int(day)\n",
        "month = input(\"Please enter a month in numerical form (ex: 10): \")\n",
        "month = int(month)\n",
        "year = input (\"Please enter a year in numerical form (ex: 22): \")\n",
        "year = int(year)\n",
        "\n",
        "print(day,month,year)\n",
        "\n",
        "if day * month == year:\n",
        "    print(\"Wow! That is a magic number!\")\n",
        "else:\n",
        "    print(\"Try again next time!\")"
      ],
      "metadata": {
        "id": "Ezk4XmQnH17f"
      },
      "execution_count": null,
      "outputs": []
    },
    {
      "cell_type": "markdown",
      "source": [
        "#Pg 270\n",
        "## 10\n",
        "## Ocean Levels"
      ],
      "metadata": {
        "id": "Gb-d-IPjc09E"
      }
    },
    {
      "cell_type": "code",
      "source": [
        "rise = 1.6\n",
        "starting_year = 1\n",
        "\n",
        "#setup for loop\n",
        "while (starting_year < 26):\n",
        "    total_rise = starting_year * rise\n",
        "    print(\"Rise after year\", starting_year, \":\"  , total_rise)\n",
        "    starting_year = starting_year + 1"
      ],
      "metadata": {
        "id": "CmWGOHqQc1Wm"
      },
      "execution_count": null,
      "outputs": []
    }
  ]
}